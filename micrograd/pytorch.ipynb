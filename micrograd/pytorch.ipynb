{
 "cells": [
  {
   "cell_type": "code",
   "execution_count": 1,
   "metadata": {},
   "outputs": [],
   "source": [
    "import torch \n",
    "import random \n",
    "import math\n",
    "import numpy as np \n",
    "import matplotlib.pyplot as plt\n",
    "%matplotlib inline\n",
    "import math "
   ]
  },
  {
   "cell_type": "code",
   "execution_count": 2,
   "metadata": {},
   "outputs": [
    {
     "name": "stdout",
     "output_type": "stream",
     "text": [
      "0.7064193777288968\n",
      "---\n",
      "x2 0.5009716627691181\n",
      "w2 0.0\n",
      "x1 -1.5029149883073543\n",
      "w1 1.0019433255382362\n"
     ]
    }
   ],
   "source": [
    "x1 = torch.Tensor([2.0]).double() ; x1.requires_grad = True \n",
    "x2 = torch.Tensor([0.0]).double() ; x2.requires_grad = True \n",
    "w1 = torch.Tensor([-3.0]).double() ; w1.requires_grad = True \n",
    "w2 = torch.Tensor([1.0]).double() ; w2.requires_grad = True \n",
    "\n",
    "b = torch.Tensor([6.88]).double() ; b.requires_grad = True \n",
    "\n",
    "n = x1*w1 + x2*w2 + b \n",
    "o = torch.tanh(n) \n",
    "\n",
    "print(o.data.item()) #returns item stripping tensor \n",
    "o.backward() \n",
    "\n",
    "print('---') \n",
    "print('x2', x2.grad.item()) \n",
    "print('w2', w2.grad.item())\n",
    "print('x1', x1.grad.item())\n",
    "print('w1', w1.grad.item())\n"
   ]
  },
  {
   "cell_type": "code",
   "execution_count": 3,
   "metadata": {},
   "outputs": [],
   "source": [
    "# neural nets are basically a specific class of mathematical experesison "
   ]
  },
  {
   "cell_type": "code",
   "execution_count": 4,
   "metadata": {},
   "outputs": [
    {
     "data": {
      "text/plain": [
       "tensor([[1., 2., 3.],\n",
       "        [4., 5., 6.]])"
      ]
     },
     "execution_count": 4,
     "metadata": {},
     "output_type": "execute_result"
    }
   ],
   "source": [
    "torch.Tensor([[1,2,3], [4,5,6]])\n",
    "\n",
    "# scalars in a compat representation 2 by 3 arrays \n",
    "# double to have a float64 instead of the instant 32 \n",
    "# explicitly say the values needs gradient usually set to false "
   ]
  },
  {
   "cell_type": "code",
   "execution_count": 5,
   "metadata": {},
   "outputs": [],
   "source": [
    "# copying \n",
    "\n",
    "class Value: \n",
    "\n",
    "    def __init__(self, data, _children=(), _op='', label = ''): # self is a requirement for an inwards pass \n",
    "        self.data = data \n",
    "        self.grad = 0.0 \n",
    "        self._backward = lambda: None \n",
    "        self._prev = set(_children) # set and convenience\n",
    "        self._op = _op  \n",
    "        self.label = label\n",
    "\n",
    "    def __repr__(self): # official string \n",
    "        return f\"Value(data = {self.data})\" # repr function to return a string \n",
    "    def __add__(self, other): \n",
    "        other = other if isinstance(other, Value) else Value(other)\n",
    "        out = Value(self.data + other.data, (self,other), '+')\n",
    "        def _backward():\n",
    "            self.grad += 1.0*out.grad \n",
    "            other.grad += 1.0*out.grad \n",
    "        out._backward = _backward \n",
    "\n",
    "        return out \n",
    "    def __neg__(self): \n",
    "        return self * -1 \n",
    "    def __sub__(self, other): \n",
    "        return self + (-other)    \n",
    "      \n",
    "    def __mul__(self, other): \n",
    "        other = other if isinstance(other, Value) else Value(other)\n",
    "        out = Value(self.data * other.data, (self,other), '*')\n",
    "        def _backward():\n",
    "            self.grad = other.data*out.grad \n",
    "            other.grad = self.data*out.grad \n",
    "        out._backward = _backward \n",
    "        return out \n",
    "    \n",
    "    def exp(self):\n",
    "        x = self.data\n",
    "        out = Value(math.exp(x), (self,), 'exp')\n",
    "        def _backward():\n",
    "            self.grad += out.grad*out.grad  \n",
    "        out._backward = _backward \n",
    "        return out \n",
    "        \n",
    "    \n",
    "    def __rmul__(self, other): \n",
    "        return self * other \n",
    "\n",
    "    def __truediv__(self, other): \n",
    "        return self * other**-1    \n",
    "\n",
    "\n",
    "    def __pow__(self, other): \n",
    "        assert isinstance (other, (int, float))\n",
    "        out = Value (self.data**other, (self,), f'**(other)')   \n",
    "        def backward(): \n",
    "            self.grad += other * self.data ** (other-1) * out.grad \n",
    "        out._backward = backward() \n",
    "\n",
    "        return out \n",
    "\n",
    "\n",
    "    def tanh(self):\n",
    "        x = self.data\n",
    "        t = (math.exp(2*x)-1)/(math.exp(2*x)+1)\n",
    "        out = Value(t, (self,), 'tanh')\n",
    "        def _backward():\n",
    "            self.grad = (1 - t**2 ) * out.grad \n",
    "        out._backward = _backward \n",
    "\n",
    "        return out\n",
    "    \n",
    "    def backward(self):\n",
    "        topo = [] \n",
    "        visited = set() \n",
    "        def build_topo(v): \n",
    "            if v not in visited: \n",
    "                visited.add(v)\n",
    "                for child in v._prev: \n",
    "                    build_topo(child)\n",
    "            topo.append(v)\n",
    "        build_topo(self)\n",
    "\n",
    "        self.grad = 1.0 \n",
    "        for node in reversed(topo): \n",
    "            node._backward() \n",
    "\n",
    "from graphviz import Digraph \n",
    "\n",
    "def trace(root): \n",
    "# builds a set of all nodges and edges in a graph\n",
    "    nodes, edges = set(), set() \n",
    "    def build(v): \n",
    "        if v not in nodes: \n",
    "            nodes.add(v)\n",
    "            for child in v._prev: \n",
    "                edges.add((child, v))\n",
    "                build(child)\n",
    "    build(root)\n",
    "    return nodes, edges \n",
    "\n",
    "def draw_dot(root):\n",
    "    dot = Digraph(format='svg', graph_attr={'rankdir':'LR'}) # left to right \n",
    "\n",
    "    nodes, edges = trace(root) \n",
    "    for n in nodes: \n",
    "        uld = str(id(n))\n",
    "\n",
    "        dot.node(name = uld, label = \"{ %s | data %.4f | grad %.4f}\" % (n.label, n.data,n.grad), shape = 'record')\n",
    "        if n._op:\n",
    "            dot.node(name = uld + n._op, label = n._op)\n",
    "\n",
    "            dot.edge(uld+n._op, uld)\n",
    "\n",
    "    for n1, n2 in edges: \n",
    "        dot.edge(str(id(n1)), str(id(n2)) +n2._op)\n",
    "    return dot"
   ]
  },
  {
   "cell_type": "code",
   "execution_count": 27,
   "metadata": {},
   "outputs": [],
   "source": [
    "\n",
    "\n",
    "class Neuron: \n",
    "    def __init__(self, nin):\n",
    "        self.w = [Value(random.uniform(-1,1)) for _ in range(nin)]\n",
    "        self.b = Value(random.uniform(-1,1)) \n",
    "    \n",
    "    def __call__(self, x): \n",
    "        \n",
    "        act = sum((wi*xi for wi, xi in zip(self.w, x)), self.b) \n",
    "        out = act.tanh() \n",
    "        return out  \n",
    "# nin is number of inputs, nouts is number of neurons in a single layer \n",
    "    def parameters(self): \n",
    "        return self.w + [self.b]\n",
    "class Layer: \n",
    "    def __init__(self, nin, nout):\n",
    "        self.neurons = [Neuron(nin) for _ in range(nout)]\n",
    "\n",
    "    def __call__(self, x): \n",
    "        outs = [n(x) for n in self.neurons]\n",
    "        return outs[0] if len(outs) == 1 else outs\n",
    "    def parameters(self): \n",
    "        return [p for neuron in self.neurons for p in neuron.parameters()]\n",
    "class MLP: \n",
    "    def __init__(self, nin, nouts):\n",
    "        sz = [nin] + nouts \n",
    "        self.layers = [Layer(sz[i], sz[i+1]) for i in range(len(nouts))]\n",
    "    \n",
    "    def __call__(self, x): \n",
    "        for layer in self.layers:\n",
    "            x = layer(x) \n",
    "        return x  \n",
    "    def parameters(self): \n",
    "        return [p in layer for layer in self.layers for p in layer.parameters()]\n",
    "\n",
    "\n"
   ]
  },
  {
   "cell_type": "code",
   "execution_count": 28,
   "metadata": {},
   "outputs": [
    {
     "data": {
      "text/plain": [
       "Value(data = -0.7621436703533037)"
      ]
     },
     "execution_count": 28,
     "metadata": {},
     "output_type": "execute_result"
    }
   ],
   "source": [
    "x = [2.0, 3.0, -1.0]  \n",
    "n = MLP(3, [4, 4, 1]) \n",
    "n(x) "
   ]
  },
  {
   "cell_type": "code",
   "execution_count": 36,
   "metadata": {},
   "outputs": [
    {
     "data": {
      "text/plain": [
       "[Value(data = -0.7621436703533037),\n",
       " Value(data = -0.44923134168981027),\n",
       " Value(data = -0.9364600542462126),\n",
       " Value(data = -0.7288934810377614)]"
      ]
     },
     "execution_count": 36,
     "metadata": {},
     "output_type": "execute_result"
    }
   ],
   "source": [
    "xs = [ \n",
    "    [2.0, 3.0, -1.0], \n",
    "    [3.0,-1.0, 0.5],\n",
    "    [0.5,1.0,1.0],\n",
    "    [1.0,1.0,-1.0]\n",
    "]\n",
    "\n",
    "ys = [1.0, -1.0, -1.0, 1.0] # desired targets, appears to be binary classification \n",
    "\n",
    "ypred = [n(x) for x in xs]\n",
    "\n",
    "#Calculating the loss function to help tune or measure the neural net to the intended targets \n",
    "#We want to minimize the loss \n",
    "ypred"
   ]
  },
  {
   "cell_type": "code",
   "execution_count": 38,
   "metadata": {},
   "outputs": [
    {
     "data": {
      "text/plain": [
       "<generator object <genexpr> at 0x00000169BCCE3B90>"
      ]
     },
     "execution_count": 38,
     "metadata": {},
     "output_type": "execute_result"
    }
   ],
   "source": [
    "loss = ((yout - ygt)**2 for ygt, yout in zip(ys, ypred))\n",
    "loss\n"
   ]
  },
  {
   "cell_type": "code",
   "execution_count": null,
   "metadata": {},
   "outputs": [
    {
     "ename": "AttributeError",
     "evalue": "'generator' object has no attribute '_prev'",
     "output_type": "error",
     "traceback": [
      "\u001b[1;31m---------------------------------------------------------------------------\u001b[0m",
      "\u001b[1;31mAttributeError\u001b[0m                            Traceback (most recent call last)",
      "Cell \u001b[1;32mIn[39], line 1\u001b[0m\n\u001b[1;32m----> 1\u001b[0m draw_dot(loss)\n",
      "Cell \u001b[1;32mIn[5], line 106\u001b[0m, in \u001b[0;36mdraw_dot\u001b[1;34m(root)\u001b[0m\n\u001b[0;32m    103\u001b[0m \u001b[38;5;28;01mdef\u001b[39;00m \u001b[38;5;21mdraw_dot\u001b[39m(root):\n\u001b[0;32m    104\u001b[0m     dot \u001b[38;5;241m=\u001b[39m Digraph(\u001b[38;5;28mformat\u001b[39m\u001b[38;5;241m=\u001b[39m\u001b[38;5;124m'\u001b[39m\u001b[38;5;124msvg\u001b[39m\u001b[38;5;124m'\u001b[39m, graph_attr\u001b[38;5;241m=\u001b[39m{\u001b[38;5;124m'\u001b[39m\u001b[38;5;124mrankdir\u001b[39m\u001b[38;5;124m'\u001b[39m:\u001b[38;5;124m'\u001b[39m\u001b[38;5;124mLR\u001b[39m\u001b[38;5;124m'\u001b[39m}) \u001b[38;5;66;03m# left to right \u001b[39;00m\n\u001b[1;32m--> 106\u001b[0m     nodes, edges \u001b[38;5;241m=\u001b[39m trace(root) \n\u001b[0;32m    107\u001b[0m     \u001b[38;5;28;01mfor\u001b[39;00m n \u001b[38;5;129;01min\u001b[39;00m nodes: \n\u001b[0;32m    108\u001b[0m         uld \u001b[38;5;241m=\u001b[39m \u001b[38;5;28mstr\u001b[39m(\u001b[38;5;28mid\u001b[39m(n))\n",
      "Cell \u001b[1;32mIn[5], line 100\u001b[0m, in \u001b[0;36mtrace\u001b[1;34m(root)\u001b[0m\n\u001b[0;32m     98\u001b[0m             edges\u001b[38;5;241m.\u001b[39madd((child, v))\n\u001b[0;32m     99\u001b[0m             build(child)\n\u001b[1;32m--> 100\u001b[0m build(root)\n\u001b[0;32m    101\u001b[0m \u001b[38;5;28;01mreturn\u001b[39;00m nodes, edges\n",
      "Cell \u001b[1;32mIn[5], line 97\u001b[0m, in \u001b[0;36mtrace.<locals>.build\u001b[1;34m(v)\u001b[0m\n\u001b[0;32m     95\u001b[0m \u001b[38;5;28;01mif\u001b[39;00m v \u001b[38;5;129;01mnot\u001b[39;00m \u001b[38;5;129;01min\u001b[39;00m nodes: \n\u001b[0;32m     96\u001b[0m     nodes\u001b[38;5;241m.\u001b[39madd(v)\n\u001b[1;32m---> 97\u001b[0m     \u001b[38;5;28;01mfor\u001b[39;00m child \u001b[38;5;129;01min\u001b[39;00m v\u001b[38;5;241m.\u001b[39m_prev: \n\u001b[0;32m     98\u001b[0m         edges\u001b[38;5;241m.\u001b[39madd((child, v))\n\u001b[0;32m     99\u001b[0m         build(child)\n",
      "\u001b[1;31mAttributeError\u001b[0m: 'generator' object has no attribute '_prev'"
     ]
    }
   ],
   "source": [
    "draw_dot(loss)"
   ]
  },
  {
   "cell_type": "code",
   "execution_count": null,
   "metadata": {},
   "outputs": [],
   "source": []
  },
  {
   "cell_type": "code",
   "execution_count": null,
   "metadata": {},
   "outputs": [],
   "source": []
  },
  {
   "cell_type": "code",
   "execution_count": null,
   "metadata": {},
   "outputs": [],
   "source": []
  }
 ],
 "metadata": {
  "kernelspec": {
   "display_name": "base",
   "language": "python",
   "name": "python3"
  },
  "language_info": {
   "codemirror_mode": {
    "name": "ipython",
    "version": 3
   },
   "file_extension": ".py",
   "mimetype": "text/x-python",
   "name": "python",
   "nbconvert_exporter": "python",
   "pygments_lexer": "ipython3",
   "version": "3.12.7"
  }
 },
 "nbformat": 4,
 "nbformat_minor": 2
}
