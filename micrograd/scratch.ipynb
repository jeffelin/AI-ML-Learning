{
 "cells": [
  {
   "cell_type": "code",
   "execution_count": 161,
   "metadata": {},
   "outputs": [],
   "source": [
    "import math\n",
    "import numpy as np \n",
    "import matplotlib.pyplot as plt\n",
    "%matplotlib inline"
   ]
  },
  {
   "cell_type": "code",
   "execution_count": 162,
   "metadata": {},
   "outputs": [],
   "source": [
    "def f(x): \n",
    "    return 3*x**2 - 4*x +5"
   ]
  },
  {
   "cell_type": "code",
   "execution_count": 163,
   "metadata": {},
   "outputs": [
    {
     "data": {
      "text/plain": [
       "20.0"
      ]
     },
     "execution_count": 163,
     "metadata": {},
     "output_type": "execute_result"
    }
   ],
   "source": [
    "f(3.0)"
   ]
  },
  {
   "cell_type": "code",
   "execution_count": 164,
   "metadata": {},
   "outputs": [
    {
     "data": {
      "text/plain": [
       "[<matplotlib.lines.Line2D at 0x16b89589f40>]"
      ]
     },
     "execution_count": 164,
     "metadata": {},
     "output_type": "execute_result"
    }
   ],
   "source": [
    "xs = np.arange(-5,5,0.25) # returns array of sequenced 0.25 intervals between -5 and 5\n",
    "ys = f(xs) \n",
    "plt.plot(xs, ys)\n",
    "\n",
    "# plot interval xs for different f(xs), which is a standard function"
   ]
  },
  {
   "cell_type": "code",
   "execution_count": 165,
   "metadata": {},
   "outputs": [
    {
     "data": {
      "text/plain": [
       "14.210854715202004"
      ]
     },
     "execution_count": 165,
     "metadata": {},
     "output_type": "execute_result"
    }
   ],
   "source": [
    "# What is the derivative ??? change of f(x) for a small h \n",
    "\n",
    "h = 0.00000000000001\n",
    "x = 3.0 \n",
    "(f(x+h) - f(x))/h # at three, the slope is basically 14. "
   ]
  },
  {
   "cell_type": "code",
   "execution_count": 166,
   "metadata": {},
   "outputs": [
    {
     "name": "stdout",
     "output_type": "stream",
     "text": [
      "4.0\n"
     ]
    }
   ],
   "source": [
    "# complex case \n",
    "\n",
    "a = 2.0 \n",
    "b = -3.0 \n",
    "c = 10.0 \n",
    "d = a*b + c \n",
    "print(d)"
   ]
  },
  {
   "cell_type": "code",
   "execution_count": 167,
   "metadata": {},
   "outputs": [
    {
     "name": "stdout",
     "output_type": "stream",
     "text": [
      "d1: 4.0\n",
      "d2: 4.0002\n",
      "slope: 2.0000000000042206\n"
     ]
    }
   ],
   "source": [
    "h = 0.0001 \n",
    "\n",
    "# inputs \n",
    "\n",
    "a = 2.0 \n",
    "b = -3.0 \n",
    "c = 10.0 \n",
    "\n",
    "d1 = a*b + c \n",
    "b += h # derivative is just bumping and calculating the change of a or b's effect on d\n",
    "d2 = a*b + c\n",
    "\n",
    "print('d1:', d1) \n",
    "print('d2:', d2) \n",
    "print('slope:', (d2-d1)/h) "
   ]
  },
  {
   "cell_type": "code",
   "execution_count": 168,
   "metadata": {},
   "outputs": [
    {
     "data": {
      "text/plain": [
       "Value(data = -8.0)"
      ]
     },
     "execution_count": 168,
     "metadata": {},
     "output_type": "execute_result"
    }
   ],
   "source": [
    "class Value: \n",
    "\n",
    "    def __init__(self, data, _children=(), _op='', label = ''): # self is a requirement for an inwards pass \n",
    "        self.data = data \n",
    "        self._prev = set(_children) # set and convenience\n",
    "        self._op = _op  \n",
    "        self.label = label\n",
    "        self.grad = 0.0 \n",
    "\n",
    "    def __repr__(self): # official string \n",
    "        return f\"Value(data = {self.data})\" # repr function to return a string \n",
    "    def __add__(self, other): \n",
    "        out = Value(self.data + other.data, (self,other), '+')\n",
    "        return out \n",
    "    def __mul__(self, other): \n",
    "        out = Value(self.data * other.data, (self,other), '*')\n",
    "        return out \n",
    "    \n",
    "\n",
    "\n",
    "\n",
    "a = Value(2.0, label = 'a')\n",
    "b = Value(-3.0, label = 'b') \n",
    "c = Value(10.0, label = 'c') \n",
    "e = a*b; e.label = 'e'\n",
    "d= e + c; d.label = 'd' # now it knows \n",
    "f = Value(-2.0, label = 'f')\n",
    "L = d*f ; L.label = 'L'\n",
    "L\n",
    "# a.__add__(b) # we need to define add, subtract, and all the other combinations. "
   ]
  },
  {
   "cell_type": "code",
   "execution_count": 169,
   "metadata": {},
   "outputs": [
    {
     "data": {
      "text/plain": [
       "{Value(data = -6.0), Value(data = 10.0)}"
      ]
     },
     "execution_count": 169,
     "metadata": {},
     "output_type": "execute_result"
    }
   ],
   "source": [
    "d._prev # storing the value of multiply betwen a and b, then c value "
   ]
  },
  {
   "cell_type": "code",
   "execution_count": 170,
   "metadata": {},
   "outputs": [
    {
     "data": {
      "text/plain": [
       "'+'"
      ]
     },
     "execution_count": 170,
     "metadata": {},
     "output_type": "execute_result"
    }
   ],
   "source": [
    "d._op # d produced by the addition of those values. all of this is good data structures "
   ]
  },
  {
   "cell_type": "code",
   "execution_count": 171,
   "metadata": {},
   "outputs": [],
   "source": [
    "# pip install python-graphviz"
   ]
  },
  {
   "cell_type": "code",
   "execution_count": 172,
   "metadata": {},
   "outputs": [
    {
     "name": "stdout",
     "output_type": "stream",
     "text": [
      "Requirement already satisfied: graphviz in c:\\users\\jeffl\\anaconda3\\lib\\site-packages (0.20.3)\n",
      "Note: you may need to restart the kernel to use updated packages.\n"
     ]
    }
   ],
   "source": [
    "pip install graphviz"
   ]
  },
  {
   "cell_type": "code",
   "execution_count": 178,
   "metadata": {},
   "outputs": [],
   "source": [
    "# copying \n",
    "\n",
    "class Value: \n",
    "\n",
    "    def __init__(self, data, _children=(), _op='', label = ''): # self is a requirement for an inwards pass \n",
    "        self.data = data \n",
    "        self.grad = 0.0 \n",
    "        self._backward = lambda: None \n",
    "        self._prev = set(_children) # set and convenience\n",
    "        self._op = _op  \n",
    "        self.label = label\n",
    "\n",
    "    def __repr__(self): # official string \n",
    "        return f\"Value(data = {self.data})\" # repr function to return a string \n",
    "    def __add__(self, other): \n",
    "        other = other if isinstance(other, Value) else Value(other)\n",
    "        out = Value(self.data + other.data, (self,other), '+')\n",
    "        def _backward():\n",
    "            self.grad += 1.0*out.grad \n",
    "            other.grad += 1.0*out.grad \n",
    "        out._backward = _backward \n",
    "\n",
    "        return out \n",
    "    def __neg__(self): \n",
    "        return self * -1 \n",
    "    def __sub__(self, other): \n",
    "        return self + (-other)    \n",
    "      \n",
    "    def __mul__(self, other): \n",
    "        other = other if isinstance(other, Value) else Value(other)\n",
    "        out = Value(self.data * other.data, (self,other), '*')\n",
    "        def _backward():\n",
    "            self.grad = other.data*out.grad \n",
    "            other.grad = self.data*out.grad \n",
    "        out._backward = _backward \n",
    "        return out \n",
    "    \n",
    "    def exp(self):\n",
    "        x = self.data\n",
    "        out = Value(math.exp(x), (self,), 'exp')\n",
    "        def _backward():\n",
    "            self.grad += out.grad*out.grad  \n",
    "        out._backward = _backward \n",
    "        return out \n",
    "        \n",
    "    \n",
    "    def __rmul__(self, other): \n",
    "        return self * other \n",
    "\n",
    "    def __truediv__(self, other): \n",
    "        return self * other**-1    \n",
    "\n",
    "\n",
    "    def __pow__(self, other): \n",
    "        assert isinstance (other, (int, float))\n",
    "        out = Value (self.data**other, (self,), f'**(other)')   \n",
    "        def backward(): \n",
    "            self.grad += other * self.data ** (other-1) * out.grad \n",
    "        out._backward = backward() \n",
    "\n",
    "        return out \n",
    "\n",
    "\n",
    "    def tanh(self):\n",
    "        n = self.data\n",
    "        t = (math.exp(2*x)-1)/(math.exp(2*x)+1)\n",
    "        out = Value(t, (self,), 'tanh')\n",
    "        def _backward():\n",
    "            self.grad = (1 - t**2 ) * out.grad \n",
    "        out._backward = _backward \n",
    "\n",
    "        return out\n",
    "    \n",
    "    def backward(self):\n",
    "        topo = [] \n",
    "        visited = set() \n",
    "        def build_topo(v): \n",
    "            if v not in visited: \n",
    "                visited.add(v)\n",
    "                for child in v._prev: \n",
    "                    build_topo(child)\n",
    "            topo.append(v)\n",
    "        build_topo(self)\n",
    "\n",
    "        self.grad = 1.0 \n",
    "        for node in reversed(topo): \n",
    "            node._backward() "
   ]
  },
  {
   "cell_type": "code",
   "execution_count": 183,
   "metadata": {},
   "outputs": [
    {
     "ename": "TypeError",
     "evalue": "'int' object is not iterable",
     "output_type": "error",
     "traceback": [
      "\u001b[1;31m---------------------------------------------------------------------------\u001b[0m",
      "\u001b[1;31mTypeError\u001b[0m                                 Traceback (most recent call last)",
      "Cell \u001b[1;32mIn[183], line 1\u001b[0m\n\u001b[1;32m----> 1\u001b[0m x1 \u001b[38;5;241m=\u001b[39m Value(\u001b[38;5;241m2\u001b[39m,\u001b[38;5;241m0\u001b[39m)\n\u001b[0;32m      2\u001b[0m x2 \u001b[38;5;241m=\u001b[39m Value(\u001b[38;5;241m0\u001b[39m, label \u001b[38;5;241m=\u001b[39m \u001b[38;5;124m'\u001b[39m\u001b[38;5;124mx2\u001b[39m\u001b[38;5;124m'\u001b[39m)\n\u001b[0;32m      5\u001b[0m w1 \u001b[38;5;241m=\u001b[39m Value(\u001b[38;5;241m-\u001b[39m\u001b[38;5;241m3.0\u001b[39m, label \u001b[38;5;241m=\u001b[39m \u001b[38;5;124m'\u001b[39m\u001b[38;5;124mw1\u001b[39m\u001b[38;5;124m'\u001b[39m)\n",
      "Cell \u001b[1;32mIn[178], line 9\u001b[0m, in \u001b[0;36mValue.__init__\u001b[1;34m(self, data, _children, _op, label)\u001b[0m\n\u001b[0;32m      7\u001b[0m \u001b[38;5;28mself\u001b[39m\u001b[38;5;241m.\u001b[39mgrad \u001b[38;5;241m=\u001b[39m \u001b[38;5;241m0.0\u001b[39m \n\u001b[0;32m      8\u001b[0m \u001b[38;5;28mself\u001b[39m\u001b[38;5;241m.\u001b[39m_backward \u001b[38;5;241m=\u001b[39m \u001b[38;5;28;01mlambda\u001b[39;00m: \u001b[38;5;28;01mNone\u001b[39;00m \n\u001b[1;32m----> 9\u001b[0m \u001b[38;5;28mself\u001b[39m\u001b[38;5;241m.\u001b[39m_prev \u001b[38;5;241m=\u001b[39m \u001b[38;5;28mset\u001b[39m(_children) \u001b[38;5;66;03m# set and convenience\u001b[39;00m\n\u001b[0;32m     10\u001b[0m \u001b[38;5;28mself\u001b[39m\u001b[38;5;241m.\u001b[39m_op \u001b[38;5;241m=\u001b[39m _op  \n\u001b[0;32m     11\u001b[0m \u001b[38;5;28mself\u001b[39m\u001b[38;5;241m.\u001b[39mlabel \u001b[38;5;241m=\u001b[39m label\n",
      "\u001b[1;31mTypeError\u001b[0m: 'int' object is not iterable"
     ]
    }
   ],
   "source": [
    "x1 = Value(2,0)\n",
    "x2 = Value(0, label = 'x2')\n",
    "\n",
    "\n",
    "w1 = Value(-3.0, label = 'w1')\n",
    "w2 = Value(1.0, label = 'w2')\n",
    "\n",
    "b = Value(6.88, label = 'b')\n",
    "\n",
    "x1w1 = x1 * w1; x1w1.label = 'x1w1'\n",
    "x2w2 = x2 * w2; x2w2.label = 'x2w2'\n",
    "\n",
    "x1w1x2w2 = x1w1 + x2w2; x1w1x2w2,label = 'x1w1x2w2'\n",
    "n = x1w1x2w2 + b; n.label = 'n'\n",
    "o = n.tanh(); o.label = 'o'\n",
    "o.backward() "
   ]
  },
  {
   "cell_type": "code",
   "execution_count": 174,
   "metadata": {},
   "outputs": [],
   "source": [
    "from graphviz import Digraph \n",
    "\n",
    "def trace(root): \n",
    "# builds a set of all nodges and edges in a graph\n",
    "    nodes, edges = set(), set() \n",
    "    def build(v): \n",
    "        if v not in nodes: \n",
    "            nodes.add(v)\n",
    "            for child in v._prev: \n",
    "                edges.add((child, v))\n",
    "                build(child)\n",
    "    build(root)\n",
    "    return nodes, edges \n",
    "\n",
    "def draw_dot(root):\n",
    "    dot = Digraph(format='svg', graph_attr={'rankdir':'LR'}) # left to right \n",
    "\n",
    "    nodes, edges = trace(root) \n",
    "    for n in nodes: \n",
    "        uld = str(id(n))\n",
    "\n",
    "        dot.node(name = uld, label = \"{ %s | data %.4f | grad %.4f}\" % (n.label, n.data,n.grad), shape = 'record')\n",
    "        if n._op:\n",
    "            dot.node(name = uld + n._op, label = n._op)\n",
    "\n",
    "            dot.edge(uld+n._op, uld)\n",
    "\n",
    "    for n1, n2 in edges: \n",
    "        dot.edge(str(id(n1)), str(id(n2)) +n2._op)\n",
    "    return dot"
   ]
  },
  {
   "cell_type": "code",
   "execution_count": 186,
   "metadata": {},
   "outputs": [],
   "source": [
    "a = Value(2.0, label= 'x1')"
   ]
  },
  {
   "cell_type": "code",
   "execution_count": 187,
   "metadata": {},
   "outputs": [
    {
     "ename": "TypeError",
     "evalue": "'int' object is not iterable",
     "output_type": "error",
     "traceback": [
      "\u001b[1;31m---------------------------------------------------------------------------\u001b[0m",
      "\u001b[1;31mTypeError\u001b[0m                                 Traceback (most recent call last)",
      "Cell \u001b[1;32mIn[187], line 1\u001b[0m\n\u001b[1;32m----> 1\u001b[0m x1 \u001b[38;5;241m=\u001b[39m Value(\u001b[38;5;241m2\u001b[39m,\u001b[38;5;241m0\u001b[39m, label \u001b[38;5;241m=\u001b[39m \u001b[38;5;124m'\u001b[39m\u001b[38;5;124mx1\u001b[39m\u001b[38;5;124m'\u001b[39m)\n\u001b[0;32m      2\u001b[0m x2 \u001b[38;5;241m=\u001b[39m Value(\u001b[38;5;241m0\u001b[39m, label \u001b[38;5;241m=\u001b[39m \u001b[38;5;124m'\u001b[39m\u001b[38;5;124mx2\u001b[39m\u001b[38;5;124m'\u001b[39m)\n\u001b[0;32m      5\u001b[0m w1 \u001b[38;5;241m=\u001b[39m Value(\u001b[38;5;241m-\u001b[39m\u001b[38;5;241m3.0\u001b[39m, label \u001b[38;5;241m=\u001b[39m \u001b[38;5;124m'\u001b[39m\u001b[38;5;124mw1\u001b[39m\u001b[38;5;124m'\u001b[39m)\n",
      "Cell \u001b[1;32mIn[178], line 9\u001b[0m, in \u001b[0;36mValue.__init__\u001b[1;34m(self, data, _children, _op, label)\u001b[0m\n\u001b[0;32m      7\u001b[0m \u001b[38;5;28mself\u001b[39m\u001b[38;5;241m.\u001b[39mgrad \u001b[38;5;241m=\u001b[39m \u001b[38;5;241m0.0\u001b[39m \n\u001b[0;32m      8\u001b[0m \u001b[38;5;28mself\u001b[39m\u001b[38;5;241m.\u001b[39m_backward \u001b[38;5;241m=\u001b[39m \u001b[38;5;28;01mlambda\u001b[39;00m: \u001b[38;5;28;01mNone\u001b[39;00m \n\u001b[1;32m----> 9\u001b[0m \u001b[38;5;28mself\u001b[39m\u001b[38;5;241m.\u001b[39m_prev \u001b[38;5;241m=\u001b[39m \u001b[38;5;28mset\u001b[39m(_children) \u001b[38;5;66;03m# set and convenience\u001b[39;00m\n\u001b[0;32m     10\u001b[0m \u001b[38;5;28mself\u001b[39m\u001b[38;5;241m.\u001b[39m_op \u001b[38;5;241m=\u001b[39m _op  \n\u001b[0;32m     11\u001b[0m \u001b[38;5;28mself\u001b[39m\u001b[38;5;241m.\u001b[39mlabel \u001b[38;5;241m=\u001b[39m label\n",
      "\u001b[1;31mTypeError\u001b[0m: 'int' object is not iterable"
     ]
    }
   ],
   "source": [
    "x1 = Value(2,0, label = 'x1')\n",
    "x2 = Value(0, label = 'x2')\n",
    "\n",
    "\n",
    "w1 = Value(-3.0, label = 'w1')\n",
    "w2 = Value(1.0, label = 'w2')\n",
    "\n",
    "b = Value(6.88, label = 'b')\n",
    "\n",
    "# x1w1 = x1 * w1; x1w1.label = 'x1w1'\n",
    "# x2w2 = x2 * w2; x2w2.label = 'x2w2'\n",
    "\n",
    "# x1w1x2w2 = x1w1 + x2w2; x1w1x2w2,label = 'x1w1x2w2'\n",
    "# n = x1w1x2w2 + b; n.label = 'n'\n",
    "# o = n.tanh(); o.label = 'o'\n",
    "# o.backward() "
   ]
  },
  {
   "cell_type": "code",
   "execution_count": null,
   "metadata": {},
   "outputs": [],
   "source": []
  },
  {
   "cell_type": "code",
   "execution_count": 184,
   "metadata": {},
   "outputs": [
    {
     "data": {
      "image/svg+xml": [
       "<?xml version=\"1.0\" encoding=\"UTF-8\" standalone=\"no\"?>\n",
       "<!DOCTYPE svg PUBLIC \"-//W3C//DTD SVG 1.1//EN\"\n",
       " \"http://www.w3.org/Graphics/SVG/1.1/DTD/svg11.dtd\">\n",
       "<!-- Generated by graphviz version 2.50.0 (0)\n",
       " -->\n",
       "<!-- Pages: 1 -->\n",
       "<svg width=\"1148pt\" height=\"156pt\"\n",
       " viewBox=\"0.00 0.00 1148.00 156.00\" xmlns=\"http://www.w3.org/2000/svg\" xmlns:xlink=\"http://www.w3.org/1999/xlink\">\n",
       "<g id=\"graph0\" class=\"graph\" transform=\"scale(1 1) rotate(0) translate(4 152)\">\n",
       "<polygon fill=\"white\" stroke=\"transparent\" points=\"-4,4 -4,-152 1144,-152 1144,4 -4,4\"/>\n",
       "<!-- 1561372434960 -->\n",
       "<g id=\"node1\" class=\"node\">\n",
       "<title>1561372434960</title>\n",
       "<polygon fill=\"none\" stroke=\"black\" points=\"2.5,-111.5 2.5,-147.5 187.5,-147.5 187.5,-111.5 2.5,-111.5\"/>\n",
       "<text text-anchor=\"middle\" x=\"14\" y=\"-125.8\" font-family=\"Times New Roman,serif\" font-size=\"14.00\">a</text>\n",
       "<polyline fill=\"none\" stroke=\"black\" points=\"25.5,-111.5 25.5,-147.5 \"/>\n",
       "<text text-anchor=\"middle\" x=\"65.5\" y=\"-125.8\" font-family=\"Times New Roman,serif\" font-size=\"14.00\">data 2.0000</text>\n",
       "<polyline fill=\"none\" stroke=\"black\" points=\"105.5,-111.5 105.5,-147.5 \"/>\n",
       "<text text-anchor=\"middle\" x=\"146.5\" y=\"-125.8\" font-family=\"Times New Roman,serif\" font-size=\"14.00\">grad 0.0000</text>\n",
       "</g>\n",
       "<!-- 1561358805296* -->\n",
       "<g id=\"node7\" class=\"node\">\n",
       "<title>1561358805296*</title>\n",
       "<ellipse fill=\"none\" stroke=\"black\" cx=\"253\" cy=\"-101.5\" rx=\"27\" ry=\"18\"/>\n",
       "<text text-anchor=\"middle\" x=\"253\" y=\"-97.8\" font-family=\"Times New Roman,serif\" font-size=\"14.00\">*</text>\n",
       "</g>\n",
       "<!-- 1561372434960&#45;&gt;1561358805296* -->\n",
       "<g id=\"edge9\" class=\"edge\">\n",
       "<title>1561372434960&#45;&gt;1561358805296*</title>\n",
       "<path fill=\"none\" stroke=\"black\" d=\"M187.65,-113.05C197.94,-111.2 207.91,-109.41 216.81,-107.82\"/>\n",
       "<polygon fill=\"black\" stroke=\"black\" points=\"217.48,-111.25 226.71,-106.04 216.25,-104.36 217.48,-111.25\"/>\n",
       "</g>\n",
       "<!-- 1561378806320 -->\n",
       "<g id=\"node2\" class=\"node\">\n",
       "<title>1561378806320</title>\n",
       "<polygon fill=\"none\" stroke=\"black\" points=\"634,-0.5 634,-36.5 822,-36.5 822,-0.5 634,-0.5\"/>\n",
       "<text text-anchor=\"middle\" x=\"644.5\" y=\"-14.8\" font-family=\"Times New Roman,serif\" font-size=\"14.00\">f</text>\n",
       "<polyline fill=\"none\" stroke=\"black\" points=\"655,-0.5 655,-36.5 \"/>\n",
       "<text text-anchor=\"middle\" x=\"697.5\" y=\"-14.8\" font-family=\"Times New Roman,serif\" font-size=\"14.00\">data &#45;2.0000</text>\n",
       "<polyline fill=\"none\" stroke=\"black\" points=\"740,-0.5 740,-36.5 \"/>\n",
       "<text text-anchor=\"middle\" x=\"781\" y=\"-14.8\" font-family=\"Times New Roman,serif\" font-size=\"14.00\">grad 0.0000</text>\n",
       "</g>\n",
       "<!-- 1561374207696* -->\n",
       "<g id=\"node4\" class=\"node\">\n",
       "<title>1561374207696*</title>\n",
       "<ellipse fill=\"none\" stroke=\"black\" cx=\"885\" cy=\"-45.5\" rx=\"27\" ry=\"18\"/>\n",
       "<text text-anchor=\"middle\" x=\"885\" y=\"-41.8\" font-family=\"Times New Roman,serif\" font-size=\"14.00\">*</text>\n",
       "</g>\n",
       "<!-- 1561378806320&#45;&gt;1561374207696* -->\n",
       "<g id=\"edge7\" class=\"edge\">\n",
       "<title>1561378806320&#45;&gt;1561374207696*</title>\n",
       "<path fill=\"none\" stroke=\"black\" d=\"M822.29,-34.75C831.57,-36.37 840.52,-37.93 848.61,-39.33\"/>\n",
       "<polygon fill=\"black\" stroke=\"black\" points=\"848.22,-42.82 858.68,-41.09 849.42,-35.92 848.22,-42.82\"/>\n",
       "</g>\n",
       "<!-- 1561374207696 -->\n",
       "<g id=\"node3\" class=\"node\">\n",
       "<title>1561374207696</title>\n",
       "<polygon fill=\"none\" stroke=\"black\" points=\"948,-27.5 948,-63.5 1140,-63.5 1140,-27.5 948,-27.5\"/>\n",
       "<text text-anchor=\"middle\" x=\"960.5\" y=\"-41.8\" font-family=\"Times New Roman,serif\" font-size=\"14.00\">L</text>\n",
       "<polyline fill=\"none\" stroke=\"black\" points=\"973,-27.5 973,-63.5 \"/>\n",
       "<text text-anchor=\"middle\" x=\"1015.5\" y=\"-41.8\" font-family=\"Times New Roman,serif\" font-size=\"14.00\">data &#45;8.0000</text>\n",
       "<polyline fill=\"none\" stroke=\"black\" points=\"1058,-27.5 1058,-63.5 \"/>\n",
       "<text text-anchor=\"middle\" x=\"1099\" y=\"-41.8\" font-family=\"Times New Roman,serif\" font-size=\"14.00\">grad 0.0000</text>\n",
       "</g>\n",
       "<!-- 1561374207696*&#45;&gt;1561374207696 -->\n",
       "<g id=\"edge1\" class=\"edge\">\n",
       "<title>1561374207696*&#45;&gt;1561374207696</title>\n",
       "<path fill=\"none\" stroke=\"black\" d=\"M912.28,-45.5C919.78,-45.5 928.44,-45.5 937.67,-45.5\"/>\n",
       "<polygon fill=\"black\" stroke=\"black\" points=\"937.87,-49 947.87,-45.5 937.87,-42 937.87,-49\"/>\n",
       "</g>\n",
       "<!-- 1561329256736 -->\n",
       "<g id=\"node5\" class=\"node\">\n",
       "<title>1561329256736</title>\n",
       "<polygon fill=\"none\" stroke=\"black\" points=\"316,-28.5 316,-64.5 508,-64.5 508,-28.5 316,-28.5\"/>\n",
       "<text text-anchor=\"middle\" x=\"327.5\" y=\"-42.8\" font-family=\"Times New Roman,serif\" font-size=\"14.00\">c</text>\n",
       "<polyline fill=\"none\" stroke=\"black\" points=\"339,-28.5 339,-64.5 \"/>\n",
       "<text text-anchor=\"middle\" x=\"382.5\" y=\"-42.8\" font-family=\"Times New Roman,serif\" font-size=\"14.00\">data 10.0000</text>\n",
       "<polyline fill=\"none\" stroke=\"black\" points=\"426,-28.5 426,-64.5 \"/>\n",
       "<text text-anchor=\"middle\" x=\"467\" y=\"-42.8\" font-family=\"Times New Roman,serif\" font-size=\"14.00\">grad 0.0000</text>\n",
       "</g>\n",
       "<!-- 1561377419584+ -->\n",
       "<g id=\"node9\" class=\"node\">\n",
       "<title>1561377419584+</title>\n",
       "<ellipse fill=\"none\" stroke=\"black\" cx=\"571\" cy=\"-73.5\" rx=\"27\" ry=\"18\"/>\n",
       "<text text-anchor=\"middle\" x=\"571\" y=\"-69.8\" font-family=\"Times New Roman,serif\" font-size=\"14.00\">+</text>\n",
       "</g>\n",
       "<!-- 1561329256736&#45;&gt;1561377419584+ -->\n",
       "<g id=\"edge4\" class=\"edge\">\n",
       "<title>1561329256736&#45;&gt;1561377419584+</title>\n",
       "<path fill=\"none\" stroke=\"black\" d=\"M508.4,-62.91C517.69,-64.5 526.64,-66.04 534.71,-67.43\"/>\n",
       "<polygon fill=\"black\" stroke=\"black\" points=\"534.32,-70.91 544.76,-69.16 535.5,-64.02 534.32,-70.91\"/>\n",
       "</g>\n",
       "<!-- 1561358805296 -->\n",
       "<g id=\"node6\" class=\"node\">\n",
       "<title>1561358805296</title>\n",
       "<polygon fill=\"none\" stroke=\"black\" points=\"317,-83.5 317,-119.5 507,-119.5 507,-83.5 317,-83.5\"/>\n",
       "<text text-anchor=\"middle\" x=\"328.5\" y=\"-97.8\" font-family=\"Times New Roman,serif\" font-size=\"14.00\">e</text>\n",
       "<polyline fill=\"none\" stroke=\"black\" points=\"340,-83.5 340,-119.5 \"/>\n",
       "<text text-anchor=\"middle\" x=\"382.5\" y=\"-97.8\" font-family=\"Times New Roman,serif\" font-size=\"14.00\">data &#45;6.0000</text>\n",
       "<polyline fill=\"none\" stroke=\"black\" points=\"425,-83.5 425,-119.5 \"/>\n",
       "<text text-anchor=\"middle\" x=\"466\" y=\"-97.8\" font-family=\"Times New Roman,serif\" font-size=\"14.00\">grad 0.0000</text>\n",
       "</g>\n",
       "<!-- 1561358805296&#45;&gt;1561377419584+ -->\n",
       "<g id=\"edge8\" class=\"edge\">\n",
       "<title>1561358805296&#45;&gt;1561377419584+</title>\n",
       "<path fill=\"none\" stroke=\"black\" d=\"M507.05,-84.73C516.89,-82.97 526.39,-81.28 534.9,-79.76\"/>\n",
       "<polygon fill=\"black\" stroke=\"black\" points=\"535.52,-83.2 544.75,-78 534.29,-76.31 535.52,-83.2\"/>\n",
       "</g>\n",
       "<!-- 1561358805296*&#45;&gt;1561358805296 -->\n",
       "<g id=\"edge2\" class=\"edge\">\n",
       "<title>1561358805296*&#45;&gt;1561358805296</title>\n",
       "<path fill=\"none\" stroke=\"black\" d=\"M280.28,-101.5C288.05,-101.5 297.08,-101.5 306.68,-101.5\"/>\n",
       "<polygon fill=\"black\" stroke=\"black\" points=\"306.88,-105 316.88,-101.5 306.88,-98 306.88,-105\"/>\n",
       "</g>\n",
       "<!-- 1561377419584 -->\n",
       "<g id=\"node8\" class=\"node\">\n",
       "<title>1561377419584</title>\n",
       "<polygon fill=\"none\" stroke=\"black\" points=\"635.5,-55.5 635.5,-91.5 820.5,-91.5 820.5,-55.5 635.5,-55.5\"/>\n",
       "<text text-anchor=\"middle\" x=\"647\" y=\"-69.8\" font-family=\"Times New Roman,serif\" font-size=\"14.00\">d</text>\n",
       "<polyline fill=\"none\" stroke=\"black\" points=\"658.5,-55.5 658.5,-91.5 \"/>\n",
       "<text text-anchor=\"middle\" x=\"698.5\" y=\"-69.8\" font-family=\"Times New Roman,serif\" font-size=\"14.00\">data 4.0000</text>\n",
       "<polyline fill=\"none\" stroke=\"black\" points=\"738.5,-55.5 738.5,-91.5 \"/>\n",
       "<text text-anchor=\"middle\" x=\"779.5\" y=\"-69.8\" font-family=\"Times New Roman,serif\" font-size=\"14.00\">grad 0.0000</text>\n",
       "</g>\n",
       "<!-- 1561377419584&#45;&gt;1561374207696* -->\n",
       "<g id=\"edge5\" class=\"edge\">\n",
       "<title>1561377419584&#45;&gt;1561374207696*</title>\n",
       "<path fill=\"none\" stroke=\"black\" d=\"M820.51,-56.97C830.48,-55.17 840.13,-53.42 848.77,-51.86\"/>\n",
       "<polygon fill=\"black\" stroke=\"black\" points=\"849.55,-55.28 858.77,-50.06 848.3,-48.39 849.55,-55.28\"/>\n",
       "</g>\n",
       "<!-- 1561377419584+&#45;&gt;1561377419584 -->\n",
       "<g id=\"edge3\" class=\"edge\">\n",
       "<title>1561377419584+&#45;&gt;1561377419584</title>\n",
       "<path fill=\"none\" stroke=\"black\" d=\"M598.29,-73.5C606.26,-73.5 615.54,-73.5 625.39,-73.5\"/>\n",
       "<polygon fill=\"black\" stroke=\"black\" points=\"625.41,-77 635.41,-73.5 625.41,-70 625.41,-77\"/>\n",
       "</g>\n",
       "<!-- 1561372653472 -->\n",
       "<g id=\"node10\" class=\"node\">\n",
       "<title>1561372653472</title>\n",
       "<polygon fill=\"none\" stroke=\"black\" points=\"0,-56.5 0,-92.5 190,-92.5 190,-56.5 0,-56.5\"/>\n",
       "<text text-anchor=\"middle\" x=\"11.5\" y=\"-70.8\" font-family=\"Times New Roman,serif\" font-size=\"14.00\">b</text>\n",
       "<polyline fill=\"none\" stroke=\"black\" points=\"23,-56.5 23,-92.5 \"/>\n",
       "<text text-anchor=\"middle\" x=\"65.5\" y=\"-70.8\" font-family=\"Times New Roman,serif\" font-size=\"14.00\">data &#45;3.0000</text>\n",
       "<polyline fill=\"none\" stroke=\"black\" points=\"108,-56.5 108,-92.5 \"/>\n",
       "<text text-anchor=\"middle\" x=\"149\" y=\"-70.8\" font-family=\"Times New Roman,serif\" font-size=\"14.00\">grad 0.0000</text>\n",
       "</g>\n",
       "<!-- 1561372653472&#45;&gt;1561358805296* -->\n",
       "<g id=\"edge6\" class=\"edge\">\n",
       "<title>1561372653472&#45;&gt;1561358805296*</title>\n",
       "<path fill=\"none\" stroke=\"black\" d=\"M190.34,-90.83C199.62,-92.44 208.58,-93.99 216.66,-95.38\"/>\n",
       "<polygon fill=\"black\" stroke=\"black\" points=\"216.27,-98.87 226.72,-97.12 217.46,-91.97 216.27,-98.87\"/>\n",
       "</g>\n",
       "</g>\n",
       "</svg>\n"
      ],
      "text/plain": [
       "<graphviz.graphs.Digraph at 0x16b898f7800>"
      ]
     },
     "execution_count": 184,
     "metadata": {},
     "output_type": "execute_result"
    }
   ],
   "source": [
    "draw_dot(L)\n",
    "# L.grad = 1.0\n",
    "# f.grad = 4.0 \n",
    "# d.grad = -2.0\n",
    "# c.grad = -2.0 \n",
    "# e.grad = -2.0\n",
    "# a.grad = 6.0 \n",
    "# b.grad = -4.0 \n",
    "\n",
    "####################\n",
    "\n",
    "\n",
    "# back propagation and calculate the gradient in the intermediate values derivative with respective to L all the way back \n",
    "# usually it is weights \n",
    "\n",
    "\n",
    "\n",
    "# DL / DC = DD / DC * DL / DD; DD / DC = 1 and DD / DE = 1\n",
    "# DL / DD  = DL/DL * DL / DD\n",
    "# DL / DA = DL/DE * DE/DA \n",
    "\n",
    "# https://graphviz.org/ graph vic API \n",
    "# able to build out mathematical expression to be scalared value for a forward pass "
   ]
  },
  {
   "cell_type": "code",
   "execution_count": 120,
   "metadata": {},
   "outputs": [
    {
     "name": "stdout",
     "output_type": "stream",
     "text": [
      "6.000000000021544\n"
     ]
    }
   ],
   "source": [
    "def lol(): \n",
    "    # checker \n",
    "    h = 0.0001    \n",
    "    a = Value(2.0, label = 'a')\n",
    "    b = Value(-3.0, label = 'b') \n",
    "    c = Value(10.0, label = 'c') \n",
    "    e = a*b; e.label = 'e'\n",
    "    d= e + c; d.label = 'd' # now it knows \n",
    "    f = Value(-2.0, label = 'f')\n",
    "    L = d*f ; L.label = 'L'\n",
    "    L1 = L.data \n",
    "\n",
    "    \n",
    "    a = Value(2.0+h, label = 'a')\n",
    "    b = Value(-3.0, label = 'b') \n",
    "    c = Value(10.0, label = 'c') \n",
    "    e = a*b; e.label = 'e'\n",
    "    d= e + c; d.label = 'd' # now it knows \n",
    "    f = Value(-2.0, label = 'f')\n",
    "    L = d*f ; L.label = 'L'\n",
    "    L2 = L.data \n",
    "\n",
    "    print((L2-L1)/h) # DA / DL\n",
    "lol() \n",
    "\n",
    "# "
   ]
  },
  {
   "cell_type": "code",
   "execution_count": null,
   "metadata": {},
   "outputs": [],
   "source": [
    "# pytorch ! "
   ]
  },
  {
   "cell_type": "code",
   "execution_count": null,
   "metadata": {},
   "outputs": [],
   "source": []
  }
 ],
 "metadata": {
  "kernelspec": {
   "display_name": "base",
   "language": "python",
   "name": "python3"
  },
  "language_info": {
   "codemirror_mode": {
    "name": "ipython",
    "version": 3
   },
   "file_extension": ".py",
   "mimetype": "text/x-python",
   "name": "python",
   "nbconvert_exporter": "python",
   "pygments_lexer": "ipython3",
   "version": "3.12.7"
  }
 },
 "nbformat": 4,
 "nbformat_minor": 2
}
