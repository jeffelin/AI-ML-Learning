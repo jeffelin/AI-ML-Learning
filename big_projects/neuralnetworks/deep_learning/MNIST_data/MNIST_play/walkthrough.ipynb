{
 "cells": [
  {
   "cell_type": "markdown",
   "metadata": {},
   "source": [
    "a works in process to relook at MNIST data "
   ]
  }
 ],
 "metadata": {
  "language_info": {
   "name": "python"
  }
 },
 "nbformat": 4,
 "nbformat_minor": 2
}
