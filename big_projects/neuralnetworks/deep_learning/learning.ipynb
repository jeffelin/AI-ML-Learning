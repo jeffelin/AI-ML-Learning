{
 "cells": [
  {
   "cell_type": "markdown",
   "metadata": {},
   "source": [
    "# Working with PyTorch \n",
    "\n",
    "-> https://pythonprogramming.net/introduction-deep-learning-neural-network-pytorch/ \n",
    "\n",
    "What's a tensor?!\n",
    "\n",
    "You can just think of a tensor like an array. Really all we're doing is basically multiplying arrays here. That's all there is to it. The fancy bits are when we run an optimization algorithm on all those weights to start modifying them. Neural networks themselves are actually super basic and simple. Their optimization is a little more challenging, but most of these deep learning libraries also help you a bit with that math. If you want to learn how to do everything yourself by hand, stay tuned later in the series. I just don't think it would be wise to lead with that."
   ]
  },
  {
   "cell_type": "code",
   "execution_count": 2,
   "metadata": {},
   "outputs": [
    {
     "name": "stdout",
     "output_type": "stream",
     "text": [
      "tensor([10.,  3.])\n"
     ]
    }
   ],
   "source": [
    "# standard imports \n",
    "\n",
    "import torch \n",
    "\n",
    "# tensors are like arrays so...\n",
    "\n",
    "x = torch.Tensor([5,3]) # establishes a 1 by 2 array with values 5 and 3 \n",
    "y = torch.Tensor([2,1]) # establises a 1 by 2 array with values 2 and 1 \n",
    "\n",
    "print(x*y) # multiplies the corresponding values "
   ]
  },
  {
   "cell_type": "code",
   "execution_count": 18,
   "metadata": {},
   "outputs": [
    {
     "name": "stdout",
     "output_type": "stream",
     "text": [
      "Printing Array Zeros: tensor([[0., 0., 0., 0., 0.],\n",
      "        [0., 0., 0., 0., 0.]])\n",
      "Rows, Columns Size: torch.Size([2, 5])\n",
      "Random Tensor: tensor([[0.3538, 0.7593, 0.7257, 0.0332, 0.9992],\n",
      "        [0.0090, 0.6272, 0.5041, 0.0473, 0.1120]])\n"
     ]
    }
   ],
   "source": [
    "x = torch.zeros([2,5]) # creates a two (row) by 5 (column) array filled with zeros. \n",
    "x_shape = x.shape # outputs the row by column \n",
    "y = torch.rand([2,5]) # creates a two by 5 array filled with random digits between 0 and 1. \n",
    "\n",
    "print(\"Printing Array Zeros: \" + str(x))\n",
    "print(\"Rows, Columns Size: \" + str(x_shape))\n",
    "print(\"Random Tensor: \" + str(y))"
   ]
  },
  {
   "cell_type": "code",
   "execution_count": null,
   "metadata": {},
   "outputs": [],
   "source": []
  },
  {
   "cell_type": "code",
   "execution_count": null,
   "metadata": {},
   "outputs": [],
   "source": []
  },
  {
   "cell_type": "code",
   "execution_count": null,
   "metadata": {},
   "outputs": [],
   "source": []
  },
  {
   "cell_type": "code",
   "execution_count": null,
   "metadata": {},
   "outputs": [],
   "source": []
  }
 ],
 "metadata": {
  "kernelspec": {
   "display_name": "base",
   "language": "python",
   "name": "python3"
  },
  "language_info": {
   "codemirror_mode": {
    "name": "ipython",
    "version": 3
   },
   "file_extension": ".py",
   "mimetype": "text/x-python",
   "name": "python",
   "nbconvert_exporter": "python",
   "pygments_lexer": "ipython3",
   "version": "3.12.7"
  }
 },
 "nbformat": 4,
 "nbformat_minor": 2
}
