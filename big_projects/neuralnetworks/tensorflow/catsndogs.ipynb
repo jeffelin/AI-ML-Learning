{
 "cells": [
  {
   "cell_type": "code",
   "execution_count": 9,
   "metadata": {},
   "outputs": [],
   "source": [
    "import numpy as np \n",
    "import matplotlib.pyplot as plt\n",
    "import cv2\n",
    "import os\n",
    "import pandas as pd"
   ]
  },
  {
   "cell_type": "code",
   "execution_count": 21,
   "metadata": {},
   "outputs": [
    {
     "ename": "FileNotFoundError",
     "evalue": "[WinError 3] The system cannot find the path specified: 'C:\\\\Users\\\\jeffl\\\\Downloads\\\\kagglecatsanddogs_5340.zip\\\\PetImages\\\\Dog'",
     "output_type": "error",
     "traceback": [
      "\u001b[1;31m---------------------------------------------------------------------------\u001b[0m",
      "\u001b[1;31mFileNotFoundError\u001b[0m                         Traceback (most recent call last)",
      "Cell \u001b[1;32mIn[21], line 6\u001b[0m\n\u001b[0;32m      4\u001b[0m \u001b[38;5;28;01mfor\u001b[39;00m categories \u001b[38;5;129;01min\u001b[39;00m CATEGORIES:\n\u001b[0;32m      5\u001b[0m     path \u001b[38;5;241m=\u001b[39m os\u001b[38;5;241m.\u001b[39mpath\u001b[38;5;241m.\u001b[39mjoin(Data_Directory, categories)\n\u001b[1;32m----> 6\u001b[0m     \u001b[38;5;28;01mfor\u001b[39;00m image \u001b[38;5;129;01min\u001b[39;00m os\u001b[38;5;241m.\u001b[39mlistdir(path):\n\u001b[0;32m      7\u001b[0m         img_array \u001b[38;5;241m=\u001b[39m cv2\u001b[38;5;241m.\u001b[39mimread(os\u001b[38;5;241m.\u001b[39mpath\u001b[38;5;241m.\u001b[39mjoin(path,image), cv2\u001b[38;5;241m.\u001b[39mIMREAD_GRAYSCALE) \u001b[38;5;66;03m# color is not essential so reduction and this puts the image with the path for each \u001b[39;00m\n\u001b[0;32m      8\u001b[0m         plt\u001b[38;5;241m.\u001b[39mimshow(img_array, cmap\u001b[38;5;241m=\u001b[39m\u001b[38;5;124m'\u001b[39m\u001b[38;5;124mgray\u001b[39m\u001b[38;5;124m'\u001b[39m)\n",
      "\u001b[1;31mFileNotFoundError\u001b[0m: [WinError 3] The system cannot find the path specified: 'C:\\\\Users\\\\jeffl\\\\Downloads\\\\kagglecatsanddogs_5340.zip\\\\PetImages\\\\Dog'"
     ]
    }
   ],
   "source": [
    "Data_Directory = r\"C:\\Users\\jeffl\\Downloads\\kagglecatsanddogs_5340.zip\\PetImages\"\n",
    "CATEGORIES = ['Dog', 'Cat']\n",
    "\n",
    "for categories in CATEGORIES:\n",
    "    path = os.path.join(Data_Directory, categories)\n",
    "    for image in os.listdir(path):\n",
    "        img_array = cv2.imread(os.path.join(path,image), cv2.IMREAD_GRAYSCALE) # color is not essential so reduction and this puts the image with the path for each \n",
    "        plt.imshow(img_array, cmap='gray')\n",
    "        plt.show()\n",
    "        break\n",
    "    break"
   ]
  }
 ],
 "metadata": {
  "kernelspec": {
   "display_name": "base",
   "language": "python",
   "name": "python3"
  },
  "language_info": {
   "codemirror_mode": {
    "name": "ipython",
    "version": 3
   },
   "file_extension": ".py",
   "mimetype": "text/x-python",
   "name": "python",
   "nbconvert_exporter": "python",
   "pygments_lexer": "ipython3",
   "version": "3.12.7"
  }
 },
 "nbformat": 4,
 "nbformat_minor": 2
}
