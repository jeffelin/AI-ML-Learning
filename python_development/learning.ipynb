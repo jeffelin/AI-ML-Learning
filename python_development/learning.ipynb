{
 "cells": [
  {
   "cell_type": "markdown",
   "metadata": {},
   "source": [
    "# place where i master python for you all. python in a couple of weeks. \n",
    "\n",
    "i've never took an official programming class before. so let's cook it up. \n",
    "\n",
    "how? free stuff on the internet with the help of https://pythonprogramming.net/"
   ]
  },
  {
   "cell_type": "code",
   "execution_count": 8,
   "metadata": {},
   "outputs": [
    {
     "name": "stdout",
     "output_type": "stream",
     "text": [
      "Hello World\n",
      "Hello World: My favorite number is one, which could be rewritten as 1!\n"
     ]
    }
   ],
   "source": [
    "# classic hello world, i will be looking at all the print documentation \n",
    "\n",
    "print(\"Hello World\")\n",
    "print(\"Hello World: My favorite number is one, which could be rewritten as \" + str(1) + \"!\")"
   ]
  },
  {
   "cell_type": "markdown",
   "metadata": {},
   "source": [
    "For example, we're going to have a variable that stores programming languages, so we're going to call our variable programming_languages. Even for a non-programmer, this is pretty darn legible. It looks like a list, but list is actually a programming term, and, officially, this actually isn't a list. It's what's called a tuple."
   ]
  },
  {
   "cell_type": "code",
   "execution_count": 11,
   "metadata": {},
   "outputs": [
    {
     "name": "stdout",
     "output_type": "stream",
     "text": [
      "What is this class? <class 'tuple'>\n"
     ]
    },
    {
     "data": {
      "text/plain": [
       "('Python', 'Java', 'C++', 'C#')"
      ]
     },
     "execution_count": 11,
     "metadata": {},
     "output_type": "execute_result"
    }
   ],
   "source": [
    "# objects and storing variables \n",
    "\n",
    "programming_languages = \"Python\", \"Java\", \"C++\", \"C#\"\n",
    "\n",
    "print(\"What is this class?: \" + str(type(programming_languages)))\n",
    "programming_languages"
   ]
  },
  {
   "cell_type": "code",
   "execution_count": 13,
   "metadata": {},
   "outputs": [
    {
     "name": "stdout",
     "output_type": "stream",
     "text": [
      "Python\n",
      "Java\n",
      "C++\n",
      "C#\n"
     ]
    }
   ],
   "source": [
    "programming_languages = \"Python\", \"Java\", \"C++\", \"C#\"\n",
    "\n",
    "for languages in programming_languages: # this item which is the variables in the tuple \n",
    "    print(languages) # print out each variable item within the tuple "
   ]
  },
  {
   "cell_type": "code",
   "execution_count": 18,
   "metadata": {},
   "outputs": [
    {
     "name": "stdout",
     "output_type": "stream",
     "text": [
      "[[0, 0, 0], [0, 0, 0], [0, 0, 0]]\n"
     ]
    }
   ],
   "source": [
    "# tic tac toe game \n",
    "\n",
    "game = [[0,0,0],[0,0,0],[0,0,0]] # list commands \n",
    "\n",
    "print(game) "
   ]
  },
  {
   "cell_type": "code",
   "execution_count": 20,
   "metadata": {},
   "outputs": [
    {
     "name": "stdout",
     "output_type": "stream",
     "text": [
      "[0, 0, 0]\n",
      "[0, 0, 0]\n",
      "[0, 0, 0]\n"
     ]
    }
   ],
   "source": [
    "# loops \n",
    "\n",
    "game = [[0,0,0],[0,0,0],[0,0,0]] \n",
    "\n",
    "for rows in game: \n",
    "    print(rows) # doing a for loop"
   ]
  },
  {
   "cell_type": "markdown",
   "metadata": {},
   "source": [
    "Remember a moment ago how the game of TicTacToe was apparently only four steps?\n",
    "\n",
    "1. Visualize the game somehow\n",
    "2. Allow players to enter moves\n",
    "3. Make sure moves are valid and handle if not.\n",
    "4. Determine if there's a winner."
   ]
  },
  {
   "cell_type": "code",
   "execution_count": null,
   "metadata": {},
   "outputs": [],
   "source": []
  },
  {
   "cell_type": "code",
   "execution_count": null,
   "metadata": {},
   "outputs": [],
   "source": []
  }
 ],
 "metadata": {
  "kernelspec": {
   "display_name": "base",
   "language": "python",
   "name": "python3"
  },
  "language_info": {
   "codemirror_mode": {
    "name": "ipython",
    "version": 3
   },
   "file_extension": ".py",
   "mimetype": "text/x-python",
   "name": "python",
   "nbconvert_exporter": "python",
   "pygments_lexer": "ipython3",
   "version": "3.12.7"
  }
 },
 "nbformat": 4,
 "nbformat_minor": 2
}
