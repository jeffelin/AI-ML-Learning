{
 "cells": [
  {
   "cell_type": "markdown",
   "metadata": {},
   "source": [
    "# place where i master python for you all. python in a couple of weeks. \n",
    "\n",
    "i've never took an official programming class before. so let's cook it up. \n",
    "\n",
    "how? free stuff on the internet with the help of https://pythonprogramming.net/ and https://www.python.org/"
   ]
  },
  {
   "cell_type": "code",
   "execution_count": 23,
   "metadata": {},
   "outputs": [
    {
     "name": "stdout",
     "output_type": "stream",
     "text": [
      "Hello World\n",
      "Hello World: My favorite number is one, which could be rewritten as 1!\n"
     ]
    }
   ],
   "source": [
    "# classic hello world, i will be looking at all the print documentation \n",
    "\n",
    "print(\"Hello World\")\n",
    "print(\"Hello World: My favorite number is one, which could be rewritten as \" + str(1) + \"!\")"
   ]
  },
  {
   "cell_type": "markdown",
   "metadata": {},
   "source": [
    "For example, we're going to have a variable that stores programming languages, so we're going to call our variable programming_languages. Even for a non-programmer, this is pretty darn legible. It looks like a list, but list is actually a programming term, and, officially, this actually isn't a list. It's what's called a tuple."
   ]
  },
  {
   "cell_type": "code",
   "execution_count": 24,
   "metadata": {},
   "outputs": [
    {
     "name": "stdout",
     "output_type": "stream",
     "text": [
      "What is this class?: <class 'tuple'>\n"
     ]
    },
    {
     "data": {
      "text/plain": [
       "('Python', 'Java', 'C++', 'C#')"
      ]
     },
     "execution_count": 24,
     "metadata": {},
     "output_type": "execute_result"
    }
   ],
   "source": [
    "# objects and storing variables \n",
    "\n",
    "programming_languages = \"Python\", \"Java\", \"C++\", \"C#\"\n",
    "\n",
    "print(\"What is this class?: \" + str(type(programming_languages)))\n",
    "programming_languages"
   ]
  },
  {
   "cell_type": "code",
   "execution_count": 25,
   "metadata": {},
   "outputs": [
    {
     "name": "stdout",
     "output_type": "stream",
     "text": [
      "Python\n",
      "Java\n",
      "C++\n",
      "C#\n"
     ]
    }
   ],
   "source": [
    "programming_languages = \"Python\", \"Java\", \"C++\", \"C#\"\n",
    "\n",
    "for languages in programming_languages: # this item which is the variables in the tuple \n",
    "    print(languages) # print out each variable item within the tuple "
   ]
  },
  {
   "cell_type": "code",
   "execution_count": 26,
   "metadata": {},
   "outputs": [
    {
     "name": "stdout",
     "output_type": "stream",
     "text": [
      "[[0, 0, 0], [0, 0, 0], [0, 0, 0]]\n"
     ]
    }
   ],
   "source": [
    "# tic tac toe game \n",
    "\n",
    "game = [[0,0,0],[0,0,0],[0,0,0]] # list commands \n",
    "\n",
    "print(game) "
   ]
  },
  {
   "cell_type": "code",
   "execution_count": 27,
   "metadata": {},
   "outputs": [
    {
     "name": "stdout",
     "output_type": "stream",
     "text": [
      " 0  1  2\n",
      "[0, 0, 0]\n",
      "[0, 0, 0]\n",
      "[0, 0, 0]\n"
     ]
    }
   ],
   "source": [
    "# loops and functions (no classes yet that I have to learn)\n",
    "\n",
    "def tictactoe(): \n",
    "    game = [[0,0,0],[0,0,0],[0,0,0]] \n",
    "    print(\" 0  1  2\")\n",
    "    for rows in game: \n",
    "        print(rows) # doing a for loop\n",
    "\n",
    "tictactoe()\n"
   ]
  },
  {
   "cell_type": "markdown",
   "metadata": {},
   "source": [
    "Remember a moment ago how the game of TicTacToe was apparently only four steps?\n",
    "\n",
    "1. Visualize the game somehow\n",
    "2. Allow players to enter moves\n",
    "3. Make sure moves are valid and handle if not.\n",
    "4. Determine if there's a winner."
   ]
  },
  {
   "cell_type": "code",
   "execution_count": null,
   "metadata": {},
   "outputs": [],
   "source": []
  },
  {
   "cell_type": "markdown",
   "metadata": {},
   "source": [
    "# Classes "
   ]
  },
  {
   "cell_type": "code",
   "execution_count": 32,
   "metadata": {},
   "outputs": [
    {
     "data": {
      "text/plain": [
       "12345"
      ]
     },
     "execution_count": 32,
     "metadata": {},
     "output_type": "execute_result"
    }
   ],
   "source": [
    "# classes \n",
    "\n",
    "class MyClass:\n",
    "    \"\"\"A simple example class\"\"\"\n",
    "    i = 12345\n",
    "\n",
    "    def f(self):\n",
    "        return 'hello world'\n",
    "\n",
    "x = MyClass() # can now treat x. as an object referring to myclass\n",
    "\n",
    "x.i"
   ]
  },
  {
   "cell_type": "markdown",
   "metadata": {},
   "source": [
    "then MyClass.i and MyClass.f are valid attribute references, returning an integer and a function object, respectively. Class attributes can also be assigned to, so you can change the value of MyClass.i by assignment. __doc__ is also a valid attribute, returning the docstring belonging to the class: \"A simple example class\".\n",
    "\n",
    "Class instantiation uses function notation. Just pretend that the class object is a parameterless function that returns a new instance of the class. For example (assuming the above class):"
   ]
  },
  {
   "cell_type": "code",
   "execution_count": 35,
   "metadata": {},
   "outputs": [
    {
     "data": {
      "text/plain": [
       "('Fido', 'Buddy')"
      ]
     },
     "execution_count": 35,
     "metadata": {},
     "output_type": "execute_result"
    }
   ],
   "source": [
    "class Complex:\n",
    "    def __init__(self, realpart, imagpart):\n",
    "        self.r = realpart\n",
    "        self.i = imagpart\n",
    "\n",
    "x = Complex(3.0, -4.5)\n",
    "x.r, x.i\n",
    "\n",
    "class Dog:\n",
    "\n",
    "    kind = 'canine'         # class variable shared by all instances\n",
    "\n",
    "    def __init__(self, name):\n",
    "        self.name = name    # instance variable unique to each instance\n",
    "    \n",
    "    def add_trick(self, trick):\n",
    "        self.tricks.append(trick)\n",
    "\n",
    "d = Dog('Fido')\n",
    "e = Dog('Buddy')\n",
    "d.kind, e.kind \n",
    "d.name, e.name\n",
    "\n",
    "class Bag:\n",
    "    def __init__(self):\n",
    "        self.data = []\n",
    "\n",
    "    def add(self, x):\n",
    "        self.data.append(x)\n",
    "\n",
    "    def addtwice(self, x):\n",
    "        self.add(x)\n",
    "        self.add(x)"
   ]
  }
 ],
 "metadata": {
  "kernelspec": {
   "display_name": "base",
   "language": "python",
   "name": "python3"
  },
  "language_info": {
   "codemirror_mode": {
    "name": "ipython",
    "version": 3
   },
   "file_extension": ".py",
   "mimetype": "text/x-python",
   "name": "python",
   "nbconvert_exporter": "python",
   "pygments_lexer": "ipython3",
   "version": "3.12.7"
  }
 },
 "nbformat": 4,
 "nbformat_minor": 2
}
