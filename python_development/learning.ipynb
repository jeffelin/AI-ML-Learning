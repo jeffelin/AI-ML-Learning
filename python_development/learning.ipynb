{
 "cells": [
  {
   "cell_type": "markdown",
   "metadata": {},
   "source": [
    "# place where i master python for you all. python in a couple of weeks. \n",
    "\n",
    "i've never took an official programming class before. so let's cook it up. \n",
    "\n",
    "how? free stuff on the internet with the help of https://pythonprogramming.net/"
   ]
  },
  {
   "cell_type": "code",
   "execution_count": 8,
   "metadata": {},
   "outputs": [
    {
     "name": "stdout",
     "output_type": "stream",
     "text": [
      "Hello World\n",
      "Hello World: My favorite number is one, which could be rewritten as 1!\n"
     ]
    }
   ],
   "source": [
    "# classic hello world, i will be looking at all the print documentation \n",
    "\n",
    "print(\"Hello World\")\n",
    "print(\"Hello World: My favorite number is one, which could be rewritten as \" + str(1) + \"!\")"
   ]
  }
 ],
 "metadata": {
  "kernelspec": {
   "display_name": "base",
   "language": "python",
   "name": "python3"
  },
  "language_info": {
   "codemirror_mode": {
    "name": "ipython",
    "version": 3
   },
   "file_extension": ".py",
   "mimetype": "text/x-python",
   "name": "python",
   "nbconvert_exporter": "python",
   "pygments_lexer": "ipython3",
   "version": "3.12.7"
  }
 },
 "nbformat": 4,
 "nbformat_minor": 2
}
